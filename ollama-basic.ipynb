{
 "cells": [
  {
   "cell_type": "code",
   "execution_count": 2,
   "metadata": {},
   "outputs": [],
   "source": [
    "from langchain_community.llms import Ollama\n",
    "llm = Ollama(model=\"llama3\")"
   ]
  },
  {
   "cell_type": "code",
   "execution_count": 3,
   "metadata": {},
   "outputs": [
    {
     "data": {
      "text/plain": [
       "\"Elon Musk is a name that has become synonymous with innovation, entrepreneurship, and vision. As the founder of PayPal, SpaceX, Tesla Motors, Neuralink, and SolarCity, among other ventures, Musk has made a significant impact on various industries and has inspired countless people around the world.\\n\\nBorn in 1971 in Pretoria, South Africa, Musk developed an interest in computing and engineering at a young age. He moved to Canada in his late teens to attend college, and later transferred to the University of Pennsylvania, where he graduated with a degree in economics and physics. After college, Musk moved to California to pursue a career in technology.\\n\\nMusk's entrepreneurial journey began in 1995 when he co-founded Zip2, an online content publishing platform that was acquired by Compaq in 1999. In the same year, he also co-founded X.com, which later became PayPal, an electronic payment system that was acquired by eBay in 2002 for $1.5 billion. The success of PayPal enabled Musk to pursue his passion for space exploration and sustainable energy.\\n\\nIn 2002, Musk founded SpaceX, a private aerospace manufacturer and space transport services company, with the goal of reducing space transportation costs and enabling humanity to become a multi-planetary species. SpaceX has achieved several milestones, including being the first privately funded company to launch a liquid-fueled rocket into orbit (Falcon 1) and landing reusable rockets (Falcon 9). The company is also working towards establishing a human settlement on Mars.\\n\\nMusk's passion for sustainable energy led him to co-found Tesla Motors in 2003, an electric vehicle manufacturer that has disrupted the automotive industry. Tesla's innovative products, such as the Model S, Model X, and Model 3, have gained popularity globally, and the company has become one of the most valuable automakers in the world.\\n\\nIn addition to his work in space exploration and sustainable energy, Musk is also exploring the field of artificial intelligence through Neuralink, a neurotechnology company that aims to integrate human brains with computers. The company is working on developing implantable brain–machine interfaces (BMIs) that could potentially treat a wide range of medical conditions.\\n\\nMusk's leadership style has been characterized as bold, innovative, and sometimes provocative. He is known for his ability to inspire and motivate his teams, as well as his willingness to take calculated risks and challenge conventional wisdom. However, Musk has also faced criticism for his management style, which some have described as demanding and intense.\\n\\nDespite the challenges he faces, Musk remains committed to his vision of creating a sustainable future for humanity. He believes that by combining technology, entrepreneurship, and collaboration, we can solve many of the world's most pressing problems, including climate change, energy shortages, and space exploration.\\n\\nIn conclusion, Elon Musk is a true pioneer in the fields of innovation, entrepreneurship, and vision. His passion for solving complex problems and his willingness to take bold risks have made him a global leader in multiple industries. While he may not always be perfect, his achievements and contributions to humanity are undeniable, and his legacy will continue to inspire future generations of entrepreneurs, inventors, and innovators.\\n\\nReferences:\\n\\n* Musk, E. (2017). Elon Musk: Tesla, SpaceX, and the Quest for a Fantastic Future. New York: Hachette Book Group.\\n* Musk, E. (2020). How to Live in the Future Now. Interview with Rolling Stone.\\n* Space.com. (n.d.). Who is Elon Musk? Retrieved from <https://www.space.com/elon-musk.html>\\n* Forbes. (n.d.). The World's Richest People: Elon Musk. Retrieved from <https://www.forbes.com/profile/elon-musk/?sh=5a2e8f6d66d4>\""
      ]
     },
     "execution_count": 3,
     "metadata": {},
     "output_type": "execute_result"
    }
   ],
   "source": [
    "llm.invoke(\"Write an essay on Elon Musk\")"
   ]
  },
  {
   "cell_type": "code",
   "execution_count": 4,
   "metadata": {},
   "outputs": [],
   "source": [
    "from langchain_core.prompts import ChatPromptTemplate\n",
    "prompt = ChatPromptTemplate.from_messages([\n",
    "    (\"system\", \"You are a world class technical documentation writer.\"),\n",
    "    (\"user\", \"{input}\")\n",
    "])"
   ]
  },
  {
   "cell_type": "code",
   "execution_count": 5,
   "metadata": {},
   "outputs": [],
   "source": [
    "from langchain_core.output_parsers import StrOutputParser\n",
    "output_parser = StrOutputParser()"
   ]
  },
  {
   "cell_type": "code",
   "execution_count": 6,
   "metadata": {},
   "outputs": [],
   "source": [
    "chain = prompt | llm | output_parser"
   ]
  },
  {
   "cell_type": "code",
   "execution_count": 7,
   "metadata": {},
   "outputs": [
    {
     "data": {
      "text/plain": [
       "'**The Visionary Entrepreneur: Unpacking the Impact of Elon Musk**\\n\\nIn an era where innovation and technological advancements have become the cornerstone of human progress, few individuals have left an indelible mark like Elon Musk. A visionary entrepreneur with a passion for revolutionizing the status quo, Musk has consistently pushed the boundaries of what is thought possible, transforming industries and inspiring a generation of innovators.\\n\\nBorn in Pretoria, South Africa, Musk\\'s early life was marked by a fascination with science fiction and technology. His childhood curiosity, coupled with his natural aptitude for problem-solving, laid the foundation for his future success. After moving to Canada, Musk enrolled at Queen\\'s University before transferring to the University of Pennsylvania, where he graduated with a degree in economics and physics.\\n\\nMusk\\'s entrepreneurial journey began in 1995 when he co-founded Zip2, an online content publishing platform that was later acquired by Compaq for $307 million. This early success enabled him to focus on his next venture: PayPal, which he co-founded in 1998. The pioneering payment service was eventually sold to eBay for $1.5 billion, providing Musk with the financial backing to pursue his most ambitious projects.\\n\\nIn 2002, Musk turned his attention to space exploration when he co-founded SpaceX, a private aerospace manufacturer and space transport services company. With an unwavering commitment to making humanity a multi-planetary species, Musk\\'s vision for SpaceX has seen significant milestones, including successful launches of the Falcon 9 rocket and the development of the reusable Dragon spacecraft.\\n\\nIn 2004, Musk became the CEO of Tesla, Inc., which had previously been founded by Martin Eberhard and Marc Tarpenning. Under Musk\\'s leadership, Tesla transformed from a niche electric vehicle manufacturer to a global leader in sustainable energy solutions. The introduction of the Model S sedan, followed by the Model X SUV and the more affordable Model 3, has made Tesla one of the most successful and influential companies in the automotive industry.\\n\\nMusk\\'s innovative approach extends beyond his business ventures. He is a vocal advocate for climate action, having stated that he believes there is a less than 50% chance that humanity will avoid catastrophic climate change without collective action. His support for renewable energy sources, such as solar power and battery storage, has helped drive investment in these areas.\\n\\nDespite the challenges and controversies surrounding his ventures, Elon Musk remains an inspiration to many. His relentless pursuit of innovation, his willingness to take calculated risks, and his commitment to making a positive impact on the world are qualities that have earned him a reputation as one of the most successful entrepreneurs of our time.\\n\\nIn conclusion, Elon Musk\\'s legacy is a testament to the power of vision, determination, and innovative thinking. As we navigate an increasingly complex and interconnected world, his contributions to the fields of space exploration, electric vehicles, and renewable energy will continue to inspire generations to come. As he himself has said, \"When something\\'s important enough, you do it even if the odds are against you.\" For Elon Musk, the odds have been in his favor, but it is his unwavering commitment to pushing humanity forward that has truly made him a pioneer of our time.\\n\\n**Technical Documentation**\\n\\n* **Key Takeaways:**\\n\\t+ Elon Musk\\'s entrepreneurial journey began with Zip2 and PayPal, leading to financial backing for SpaceX and Tesla.\\n\\t+ His vision for SpaceX includes making humanity a multi-planetary species.\\n\\t+ Under his leadership, Tesla has become a global leader in sustainable energy solutions.\\n\\t+ Musk is an advocate for climate action, supporting renewable energy sources and innovative technologies.\\n* **Additional Resources:**\\n\\t+ \"Elon Musk\\'s Biography\" by Wikipedia\\n\\t+ \"The Elon Musk Story\" by Forbes Magazine\\n\\t+ \"Tesla, SpaceX, and the Quest for a Sustainable Future\" by The Verge\\n\\n**References:**\\n\\n1. Musk, E. (2017). Autobiography. Retrieved from <https://www.wired.com/story/elon-musk-autobiography/>\\n2. Tesla, Inc. (n.d.). About Us. Retrieved from <https://www.tesla.com/about>\\n3. SpaceX. (n.d.). About. Retrieved from <https://www.spacex.com/about>'"
      ]
     },
     "execution_count": 7,
     "metadata": {},
     "output_type": "execute_result"
    }
   ],
   "source": [
    "chain.invoke({\"input\": \"Write an essay on Elon Musk\"})"
   ]
  },
  {
   "cell_type": "code",
   "execution_count": null,
   "metadata": {},
   "outputs": [],
   "source": []
  }
 ],
 "metadata": {
  "kernelspec": {
   "display_name": "Python 3",
   "language": "python",
   "name": "python3"
  },
  "language_info": {
   "codemirror_mode": {
    "name": "ipython",
    "version": 3
   },
   "file_extension": ".py",
   "mimetype": "text/x-python",
   "name": "python",
   "nbconvert_exporter": "python",
   "pygments_lexer": "ipython3",
   "version": "3.10.14"
  }
 },
 "nbformat": 4,
 "nbformat_minor": 2
}
